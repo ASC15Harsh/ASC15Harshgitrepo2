{
 "cells": [
  {
   "cell_type": "code",
   "execution_count": null,
   "metadata": {
    "vscode": {
     "languageId": "plaintext"
    }
   },
   "outputs": [],
   "source": [
    "# Import necessary libraries\n",
    "import langchain\n",
    "from langchain_helper import create_vector_db, get_qa_chain\n",
    "\n",
    "# Test vector creation\n",
    "create_vector_db()\n",
    "\n",
    "# Test QA chain\n",
    "qa_chain = get_qa_chain()\n",
    "response = qa_chain(\"What is the duration of the bootcamp?\")\n",
    "print(response[\"result\"])\n"
   ]
  }
 ],
 "metadata": {
  "language_info": {
   "name": "python"
  }
 },
 "nbformat": 4,
 "nbformat_minor": 2
}
