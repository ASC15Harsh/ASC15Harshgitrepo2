# Import necessary libraries
import os
import streamlit as st
from langchain_helper import get_few_shot_db_chain
from dotenv import load_dotenv

# Load environment variables (for Google API key)
load_dotenv()

# Streamlit App Setup
st.title("Global T-Shirts: Database Q&A 🧥")

question = st.text_input("Ask a Question:")

# Define function to get the response from the Langchain chain
if question:
    # Get the Langchain chain
    chain = get_few_shot_db_chain()

    # Run the chain to process the question and retrieve the answer
    response = chain.run(question)

    # Display the answer on Streamlit UI
    st.header("Answer")
    st.write(response)
